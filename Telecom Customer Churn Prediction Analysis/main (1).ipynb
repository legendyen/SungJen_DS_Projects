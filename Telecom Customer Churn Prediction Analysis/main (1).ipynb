{
  "nbformat": 4,
  "nbformat_minor": 0,
  "metadata": {
    "colab": {
      "provenance": []
    },
    "kernelspec": {
      "name": "python3",
      "display_name": "Python 3"
    },
    "language_info": {
      "name": "python"
    }
  },
  "cells": [
    {
      "cell_type": "markdown",
      "source": [
        "# **Telecom Customer Churn Prediction and Network Optimization**"
      ],
      "metadata": {
        "id": "UppuBBdXcQac"
      }
    },
    {
      "cell_type": "markdown",
      "source": [
        "![](https://upload.wikimedia.org/wikipedia/commons/thumb/3/31/AT%26T_logo_2016.svg/330px-AT%26T_logo_2016.svg.png) ![](https://pbs.twimg.com/profile_images/1593315582564352001/dCtNc6fr_400x400.jpg)![](https://1000logos.net/wp-content/uploads/2021/10/Xfinity-Logo-2010.png) ![](https://9to5google.com/wp-content/uploads/sites/4/2023/02/mint-mobile-logo-1.jpg?quality=82&strip=all)"
      ],
      "metadata": {
        "id": "2GAqhqPNZeqt"
      }
    },
    {
      "cell_type": "markdown",
      "source": [
        "# **Project Objective**"
      ],
      "metadata": {
        "id": "IV06gs7nYBXh"
      }
    },
    {
      "cell_type": "markdown",
      "source": [
        "As more telecom companies emerge in the market, customers now have more options to choose from among the service providers. This selection process involves comparing prices, monthly usage, and coverage quality. Consequently, telecom companies need to swiftly adjust their market positions to target the right customers for them and expand their user base.\n",
        "\n",
        "As a marketing consultant team, we aim to receive monthly updates on all interactions between customers and their chosen service providers. This will enable us to predict which customers are most likely to churn and which may provide valuable connections to others. In doing so, they can become the focal point of our targeting network.\n",
        "\n"
      ],
      "metadata": {
        "id": "eINEWv6wVp1T"
      }
    },
    {
      "cell_type": "markdown",
      "source": [
        "## Spark Streaming"
      ],
      "metadata": {
        "id": "X1krgkfjVLGX"
      }
    },
    {
      "cell_type": "markdown",
      "source": [
        "One important aspect of marketing analysis is having updated data so that the company's BI team can run ad-hoc queries whenever they need to look up the newest information.\n",
        "\n",
        "In our case, we want to observe the monthly changes between customers and their service providers so that we know the current position of the leading telecoms and their corresponding market shares."
      ],
      "metadata": {
        "id": "Au5_MOxEc1Mz"
      }
    },
    {
      "cell_type": "markdown",
      "source": [
        "The first thing we need to do is to create our Spark session and set up our source streaming data directory:"
      ],
      "metadata": {
        "id": "nc7SdkIQdwbl"
      }
    },
    {
      "cell_type": "markdown",
      "source": [
        "#### Install PySpark and Create Spark Session"
      ],
      "metadata": {
        "id": "nsCSP_HTUuj4"
      }
    },
    {
      "cell_type": "code",
      "execution_count": 1,
      "metadata": {
        "colab": {
          "base_uri": "https://localhost:8080/"
        },
        "id": "Q4Hrz-ckITm0",
        "outputId": "02d4267d-38a3-4dc6-fb65-7a33cd43b93f"
      },
      "outputs": [
        {
          "output_type": "stream",
          "name": "stdout",
          "text": [
            "Requirement already satisfied: pyspark in /usr/local/lib/python3.10/dist-packages (3.5.1)\n",
            "Requirement already satisfied: py4j==0.10.9.7 in /usr/local/lib/python3.10/dist-packages (from pyspark) (0.10.9.7)\n"
          ]
        }
      ],
      "source": [
        "!pip install pyspark"
      ]
    },
    {
      "cell_type": "code",
      "source": [
        "from pyspark.sql import SparkSession\n",
        "session= SparkSession.builder.appName(\"Group9\").getOrCreate()"
      ],
      "metadata": {
        "id": "1KWDZRFFUP00"
      },
      "execution_count": 2,
      "outputs": []
    },
    {
      "cell_type": "markdown",
      "source": [
        "#### Load Data"
      ],
      "metadata": {
        "id": "Dk-yQuYYU2o_"
      }
    },
    {
      "cell_type": "code",
      "source": [
        "telecom_data=session.read.csv(\"telecom_data_new.csv\", inferSchema=True, header=True)"
      ],
      "metadata": {
        "id": "x7bMZdxJUkIP"
      },
      "execution_count": 3,
      "outputs": []
    },
    {
      "cell_type": "code",
      "source": [
        "telecom_data.show()"
      ],
      "metadata": {
        "colab": {
          "base_uri": "https://localhost:8080/"
        },
        "id": "zaobIdvCVDqN",
        "outputId": "25b408c4-ad20-41aa-e17f-6ae42777d5b2"
      },
      "execution_count": 4,
      "outputs": [
        {
          "output_type": "stream",
          "name": "stdout",
          "text": [
            "+----------+-------------+------------+----------+------------------+--------------+------------------+------------------+--------------+----------------+---------+\n",
            "|ProviderID|ConstructorID|AdCampaignID|CustomerID|   NetworkUsage_GB|ServiceQuality|AdvertisementReach|    EngagementRate|ConversionRate|CustomerFeedback|ChurnRisk|\n",
            "+----------+-------------+------------+----------+------------------+--------------+------------------+------------------+--------------+----------------+---------+\n",
            "|    Prov_1|      Const_1|        Ad_4|   Cust_17| 7.610704548881492|          Fair|              4362|0.1772607961540628|   0.031627842|         Neutral|       No|\n",
            "|    Prov_1|      Const_3|        Ad_3|   Cust_14| 18.69521620515276|          Fair|              6311|0.1432249125631183|   0.033397969|         Neutral|       No|\n",
            "|    Prov_3|      Const_3|        Ad_4|   Cust_43|19.457827167836577|     Excellent|              5463|       0.062491029|   0.046749754|        Negative|      Yes|\n",
            "|    Prov_2|      Const_3|        Ad_4|   Cust_46|1.2779501231687542|          Good|              3567|       0.011928712|   0.021831809|         Neutral|      Yes|\n",
            "|    Prov_2|      Const_2|        Ad_1|   Cust_21|       7.477280029|          Fair|              7549|0.1901318897776359|   0.027683557|        Positive|       No|\n",
            "|    Prov_2|      Const_3|        Ad_2|   Cust_16| 13.80030042205624|          Good|              5455|       0.026266463|   0.032734101|         Neutral|       No|\n",
            "|    Prov_1|      Const_3|        Ad_2|   Cust_17|13.505201507393087|          Good|              5629|0.1468141861797969|   0.045512161|        Negative|       No|\n",
            "|    Prov_5|      Const_2|        Ad_1|   Cust_26|7.3967333749850575|          Good|              6311|0.1028297909012695|   0.041504927|         Neutral|       No|\n",
            "|    Prov_1|      Const_3|        Ad_3|    Cust_9| 11.41772862330546|     Excellent|              4658|0.1540512841616686|   0.004499082|        Negative|      Yes|\n",
            "|    Prov_5|      Const_2|        Ad_1|   Cust_43| 17.55689810905128|     Excellent|              7006|0.1412157744948393|   0.009130217|        Negative|      Yes|\n",
            "|    Prov_4|      Const_2|        Ad_2|   Cust_42| 19.48982194142713|          Good|              4233|0.1327215509507809|   0.016072979|        Negative|      Yes|\n",
            "|    Prov_1|      Const_1|        Ad_2|   Cust_20|15.114813417299017|          Poor|              1441|0.1032560536649313|   0.037698928|         Neutral|      Yes|\n",
            "|    Prov_1|      Const_1|        Ad_1|   Cust_30|18.552394540106352|     Excellent|              7805|0.1606572449451403|   0.028891145|        Positive|       No|\n",
            "|    Prov_1|      Const_3|        Ad_1|   Cust_21| 5.116377978472494|          Poor|               417|       0.027680137|   0.015141919|         Neutral|       No|\n",
            "|    Prov_2|      Const_2|        Ad_1|   Cust_49| 3.668784458458553|          Poor|              8937|       0.052103316|   0.007093329|        Negative|       No|\n",
            "|    Prov_2|      Const_1|        Ad_2|    Cust_5|16.097797083184485|          Good|               953|0.1414395595060883|   0.034745222|         Neutral|       No|\n",
            "|    Prov_5|      Const_1|        Ad_1|    Cust_1| 3.952521221247434|          Poor|              5833|       0.068179146|   0.035286951|         Neutral|      Yes|\n",
            "|    Prov_5|      Const_1|        Ad_1|   Cust_30| 8.539741001899047|          Poor|              3773|0.1204955612131497|   0.047191136|         Neutral|       No|\n",
            "|    Prov_1|      Const_1|        Ad_3|   Cust_40|3.9975329366550367|          Poor|              1224|       0.099919493|   0.025523137|        Negative|       No|\n",
            "|    Prov_5|      Const_3|        Ad_1|   Cust_37|18.527502257210138|          Good|               759|0.1108751669176958|   0.025195966|        Negative|      Yes|\n",
            "+----------+-------------+------------+----------+------------------+--------------+------------------+------------------+--------------+----------------+---------+\n",
            "only showing top 20 rows\n",
            "\n"
          ]
        }
      ]
    },
    {
      "cell_type": "code",
      "source": [
        "print(\"Number of records:\", telecom_data.count())\n",
        "print(\"Information of columns:\\n\", telecom_data.columns)\n",
        "print(\"Summary of datasert:\\n\", telecom_data.describe().show(truncate=False))"
      ],
      "metadata": {
        "colab": {
          "base_uri": "https://localhost:8080/"
        },
        "id": "XVv3jdurVxSF",
        "outputId": "0091d7e6-1a01-4509-de01-b656a5eeeb79"
      },
      "execution_count": 5,
      "outputs": [
        {
          "output_type": "stream",
          "name": "stdout",
          "text": [
            "Number of records: 200\n",
            "Information of columns:\n",
            " ['ProviderID', 'ConstructorID', 'AdCampaignID', 'CustomerID', 'NetworkUsage_GB', 'ServiceQuality', 'AdvertisementReach', 'EngagementRate', 'ConversionRate', 'CustomerFeedback', 'ChurnRisk']\n",
            "+-------+----------+-------------+------------+----------+------------------+--------------+------------------+-------------------+--------------------+----------------+---------+\n",
            "|summary|ProviderID|ConstructorID|AdCampaignID|CustomerID|NetworkUsage_GB   |ServiceQuality|AdvertisementReach|EngagementRate     |ConversionRate      |CustomerFeedback|ChurnRisk|\n",
            "+-------+----------+-------------+------------+----------+------------------+--------------+------------------+-------------------+--------------------+----------------+---------+\n",
            "|count  |200       |200          |200         |200       |200               |200           |200               |200                |200                 |200             |200      |\n",
            "|mean   |NULL      |NULL         |NULL        |NULL      |11.085101516274248|NULL          |4944.92           |0.09797006132241705|0.02667586391499999 |NULL            |NULL     |\n",
            "|stddev |NULL      |NULL         |NULL        |NULL      |5.6216648941288865|NULL          |2765.7951656061687|0.05285223905518304|0.013343937839123758|NULL            |NULL     |\n",
            "|min    |Prov_1    |Const_1      |Ad_1        |Cust_1    |1.038210435       |Excellent     |307               |0.010508387        |0.002953178         |Negative        |No       |\n",
            "|max    |Prov_5    |Const_3      |Ad_4        |Cust_9    |19.692599061673505|Poor          |9937              |0.1988444433149418 |0.049979048         |Positive        |Yes      |\n",
            "+-------+----------+-------------+------------+----------+------------------+--------------+------------------+-------------------+--------------------+----------------+---------+\n",
            "\n",
            "Summary of datasert:\n",
            " None\n"
          ]
        }
      ]
    },
    {
      "cell_type": "markdown",
      "source": [
        "#### Set up streaming directory"
      ],
      "metadata": {
        "id": "lGxfRzsecqb_"
      }
    },
    {
      "cell_type": "code",
      "source": [
        "#Create a folder named telecomdir and set up the readStream\n",
        "stream_csv=session.readStream.option(\"header\", \"true\").schema(telecom_data.schema).csv(\"telecomdir/\")"
      ],
      "metadata": {
        "id": "ozZnesbhe1HX"
      },
      "execution_count": 6,
      "outputs": []
    },
    {
      "cell_type": "code",
      "source": [
        "#Copy the json file to the DoctorDir folder\n",
        "import shutil\n",
        "src=r\"telecom_data_new.csv\"\n",
        "dest=r\"telecomdir\"\n",
        "shutil.copy(src,dest)"
      ],
      "metadata": {
        "colab": {
          "base_uri": "https://localhost:8080/",
          "height": 36
        },
        "id": "UxOOlTEkfHy7",
        "outputId": "8b80d816-76ce-49ec-b4b9-f655eca076a7"
      },
      "execution_count": 7,
      "outputs": [
        {
          "output_type": "execute_result",
          "data": {
            "text/plain": [
              "'telecomdir/telecom_data_new.csv'"
            ],
            "application/vnd.google.colaboratory.intrinsic+json": {
              "type": "string"
            }
          },
          "metadata": {},
          "execution_count": 7
        }
      ]
    },
    {
      "cell_type": "code",
      "source": [
        "# Set up the write stream\n",
        "stream_csv.writeStream.queryName(\"telecomTable\").format(\"memory\").outputMode(\"append\").start()"
      ],
      "metadata": {
        "colab": {
          "base_uri": "https://localhost:8080/"
        },
        "id": "aOY4RFT9fg3K",
        "outputId": "1489fc0d-4657-4d27-ba57-b44bdd766443"
      },
      "execution_count": 8,
      "outputs": [
        {
          "output_type": "execute_result",
          "data": {
            "text/plain": [
              "<pyspark.sql.streaming.query.StreamingQuery at 0x79ef24135db0>"
            ]
          },
          "metadata": {},
          "execution_count": 8
        }
      ]
    },
    {
      "cell_type": "markdown",
      "source": [
        "#### Simulate arrival of monthly new data and perform ad-hoc queries"
      ],
      "metadata": {
        "id": "G2b_HU_4f04K"
      }
    },
    {
      "cell_type": "code",
      "source": [
        "import time\n",
        "for i in range(10):\n",
        "    session.sql(\n",
        "        '''\n",
        "        SELECT\n",
        "          ProviderID,\n",
        "          COUNT(CustomerID) AS NumberOfCustomers,\n",
        "          ROUND(COUNT(CustomerID) * 100.0 / (SELECT COUNT(CustomerID) FROM telecomTable), 3) AS MarketSharePercentage\n",
        "        FROM\n",
        "            telecomTable\n",
        "        GROUP BY\n",
        "            ProviderID\n",
        "        ORDER BY\n",
        "            MarketSharePercentage DESC\n",
        "        ''').show()\n",
        "\n",
        "    newfile=\"telecomdir/telecom_data_new\" + str(i) +  \".csv\"\n",
        "    shutil.copy(src,newfile)\n",
        "    time.sleep(6)"
      ],
      "metadata": {
        "colab": {
          "base_uri": "https://localhost:8080/"
        },
        "id": "R_qu0k20gCuH",
        "outputId": "1726199d-ad30-4646-a7b3-ec749e462fe1"
      },
      "execution_count": 9,
      "outputs": [
        {
          "output_type": "stream",
          "name": "stdout",
          "text": [
            "+----------+-----------------+---------------------+\n",
            "|ProviderID|NumberOfCustomers|MarketSharePercentage|\n",
            "+----------+-----------------+---------------------+\n",
            "+----------+-----------------+---------------------+\n",
            "\n",
            "+----------+-----------------+---------------------+\n",
            "|ProviderID|NumberOfCustomers|MarketSharePercentage|\n",
            "+----------+-----------------+---------------------+\n",
            "|    Prov_2|              100|               25.000|\n",
            "|    Prov_1|               86|               21.500|\n",
            "|    Prov_3|               76|               19.000|\n",
            "|    Prov_5|               72|               18.000|\n",
            "|    Prov_4|               66|               16.500|\n",
            "+----------+-----------------+---------------------+\n",
            "\n",
            "+----------+-----------------+---------------------+\n",
            "|ProviderID|NumberOfCustomers|MarketSharePercentage|\n",
            "+----------+-----------------+---------------------+\n",
            "|    Prov_2|              150|               25.000|\n",
            "|    Prov_1|              129|               21.500|\n",
            "|    Prov_3|              114|               19.000|\n",
            "|    Prov_5|              108|               18.000|\n",
            "|    Prov_4|               99|               16.500|\n",
            "+----------+-----------------+---------------------+\n",
            "\n",
            "+----------+-----------------+---------------------+\n",
            "|ProviderID|NumberOfCustomers|MarketSharePercentage|\n",
            "+----------+-----------------+---------------------+\n",
            "|    Prov_2|              200|               25.000|\n",
            "|    Prov_1|              172|               21.500|\n",
            "|    Prov_3|              152|               19.000|\n",
            "|    Prov_5|              144|               18.000|\n",
            "|    Prov_4|              132|               16.500|\n",
            "+----------+-----------------+---------------------+\n",
            "\n",
            "+----------+-----------------+---------------------+\n",
            "|ProviderID|NumberOfCustomers|MarketSharePercentage|\n",
            "+----------+-----------------+---------------------+\n",
            "|    Prov_2|              250|               25.000|\n",
            "|    Prov_1|              215|               21.500|\n",
            "|    Prov_3|              190|               19.000|\n",
            "|    Prov_5|              180|               18.000|\n",
            "|    Prov_4|              165|               16.500|\n",
            "+----------+-----------------+---------------------+\n",
            "\n",
            "+----------+-----------------+---------------------+\n",
            "|ProviderID|NumberOfCustomers|MarketSharePercentage|\n",
            "+----------+-----------------+---------------------+\n",
            "|    Prov_2|              300|               25.000|\n",
            "|    Prov_1|              258|               21.500|\n",
            "|    Prov_3|              228|               19.000|\n",
            "|    Prov_5|              216|               18.000|\n",
            "|    Prov_4|              198|               16.500|\n",
            "+----------+-----------------+---------------------+\n",
            "\n",
            "+----------+-----------------+---------------------+\n",
            "|ProviderID|NumberOfCustomers|MarketSharePercentage|\n",
            "+----------+-----------------+---------------------+\n",
            "|    Prov_2|              350|               25.000|\n",
            "|    Prov_1|              301|               21.500|\n",
            "|    Prov_3|              266|               19.000|\n",
            "|    Prov_5|              252|               18.000|\n",
            "|    Prov_4|              231|               16.500|\n",
            "+----------+-----------------+---------------------+\n",
            "\n",
            "+----------+-----------------+---------------------+\n",
            "|ProviderID|NumberOfCustomers|MarketSharePercentage|\n",
            "+----------+-----------------+---------------------+\n",
            "|    Prov_2|              400|               25.000|\n",
            "|    Prov_1|              344|               21.500|\n",
            "|    Prov_3|              304|               19.000|\n",
            "|    Prov_5|              288|               18.000|\n",
            "|    Prov_4|              264|               16.500|\n",
            "+----------+-----------------+---------------------+\n",
            "\n",
            "+----------+-----------------+---------------------+\n",
            "|ProviderID|NumberOfCustomers|MarketSharePercentage|\n",
            "+----------+-----------------+---------------------+\n",
            "|    Prov_2|              450|               25.000|\n",
            "|    Prov_1|              387|               21.500|\n",
            "|    Prov_3|              342|               19.000|\n",
            "|    Prov_5|              324|               18.000|\n",
            "|    Prov_4|              297|               16.500|\n",
            "+----------+-----------------+---------------------+\n",
            "\n",
            "+----------+-----------------+---------------------+\n",
            "|ProviderID|NumberOfCustomers|MarketSharePercentage|\n",
            "+----------+-----------------+---------------------+\n",
            "|    Prov_2|              500|               25.000|\n",
            "|    Prov_1|              430|               21.500|\n",
            "|    Prov_3|              380|               19.000|\n",
            "|    Prov_5|              360|               18.000|\n",
            "|    Prov_4|              330|               16.500|\n",
            "+----------+-----------------+---------------------+\n",
            "\n"
          ]
        }
      ]
    },
    {
      "cell_type": "markdown",
      "source": [
        "## Machine Learning"
      ],
      "metadata": {
        "id": "gTl4H6inhyVf"
      }
    },
    {
      "cell_type": "markdown",
      "source": [
        "An important part of securing market share is to understand your customer. Customer satisfaction is one of the indicators of whether a customer will continue to sign up with one telecom company. But, we have more information than that! Therefore, our goal is to find out the model that could give us the best accuracy in predicting the churn risk of a customer."
      ],
      "metadata": {
        "id": "_6xAfvbtwmbu"
      }
    },
    {
      "cell_type": "markdown",
      "source": [
        "Before we can input our data into the classification model, let's take a look to see if any of the columns (features) might need transformation. One-hot encoding is one of the common methods used to provide a vector for the machine learning model:"
      ],
      "metadata": {
        "id": "415KgEGcxf1v"
      }
    },
    {
      "cell_type": "markdown",
      "source": [
        "### Load Data"
      ],
      "metadata": {
        "id": "LGsPbNlpeauc"
      }
    },
    {
      "cell_type": "code",
      "source": [
        "telecom_customer=session.read.csv(\"telecom_data_customer.csv\", inferSchema=True, header=True)"
      ],
      "metadata": {
        "id": "xSmCwBWUegvq"
      },
      "execution_count": 10,
      "outputs": []
    },
    {
      "cell_type": "code",
      "source": [
        "#Take a look at the first 5 rows\n",
        "telecom_customer.show(5)"
      ],
      "metadata": {
        "colab": {
          "base_uri": "https://localhost:8080/"
        },
        "id": "zSu_YV0bwLKu",
        "outputId": "a8fd95b4-0c78-4d44-9d5c-e0e04b094018"
      },
      "execution_count": 11,
      "outputs": [
        {
          "output_type": "stream",
          "name": "stdout",
          "text": [
            "+----------+----------+------------+-------------+---------------+-----------+------------+--------------+------------------+--------------+--------------+----------------+---------+\n",
            "|CustomerID|ProviderID|DataPerMonth|PricePerMonth|NetworkUsage_GB|WifiCalling|ShareHotspot|ServiceQuality|AdvertisementReach|EngagementRate|ConversionRate|CustomerFeedback|ChurnRisk|\n",
            "+----------+----------+------------+-------------+---------------+-----------+------------+--------------+------------------+--------------+--------------+----------------+---------+\n",
            "|   Cust_69|    Prov_1|           5|        56.85|            5.0|         NO|         YES|          Fair|               839|   0.177260796|   0.031627842|         Neutral|       No|\n",
            "|  Cust_160|    Prov_1|          20|        50.66|    18.69521621|        YES|         YES|          Fair|               768|   0.143224913|   0.033397969|         Neutral|       No|\n",
            "|  Cust_156|    Prov_3|          15|        32.68|           15.0|        YES|         YES|     Excellent|               981|   0.062491029|   0.046749754|         Neutral|       No|\n",
            "|   Cust_42|    Prov_2|          20|        53.84|    1.277950123|         NO|         YES|          Good|               880|   0.011928712|   0.021831809|         Neutral|      Yes|\n",
            "|   Cust_61|    Prov_2|          15|        64.81|    7.477280029|         NO|         YES|          Fair|               904|    0.19013189|   0.027683557|        Positive|       No|\n",
            "+----------+----------+------------+-------------+---------------+-----------+------------+--------------+------------------+--------------+--------------+----------------+---------+\n",
            "only showing top 5 rows\n",
            "\n"
          ]
        }
      ]
    },
    {
      "cell_type": "markdown",
      "source": [
        "### Build Machine Learning Pipeline"
      ],
      "metadata": {
        "id": "5cR_x5EqiSpB"
      }
    },
    {
      "cell_type": "code",
      "source": [
        "#Using string indexing for dependent variable and categorical independent variables\n",
        "#Classification Models need the dependent variable to be numeric,\n",
        "#Hence important to convert dependent variable in numeric form\n",
        "from pyspark.ml.feature import StringIndexer\n",
        "str_obj=StringIndexer(inputCols=[\"ProviderID\", \"WifiCalling\", \"ShareHotspot\", \"ServiceQuality\", \"CustomerFeedback\", \"ChurnRisk\"],\n",
        "                      outputCols=[\"newProviderID\", \"newWifiCalling\", \"newShareHotspot\", \"newServiceQuality\", \"newCustomerFeedback\", \"newChurnRisk\"], stringOrderType=\"alphabetAsc\")"
      ],
      "metadata": {
        "id": "rtZi5p_iwaqj"
      },
      "execution_count": 12,
      "outputs": []
    },
    {
      "cell_type": "code",
      "source": [
        "#Using one hot encoding for categorical variables\n",
        "from pyspark.ml.feature import OneHotEncoder\n",
        "onehot_obj=OneHotEncoder(inputCols=[\"newProviderID\", \"newServiceQuality\", \"newCustomerFeedback\"],\n",
        "                         outputCols=[\"finalProviderID\", \"finalServiceQuality\", \"finalCustomerFeedback\"])"
      ],
      "metadata": {
        "id": "nRPRl-rRzYgu"
      },
      "execution_count": 13,
      "outputs": []
    },
    {
      "cell_type": "code",
      "source": [
        "from pyspark.ml.feature import VectorAssembler\n",
        "vec_obj=VectorAssembler(inputCols=[\"finalProviderID\", \"DataPerMonth\", \"PricePerMonth\", \"NetworkUsage_GB\", \"newWifiCalling\", \"newShareHotspot\", \"finalServiceQuality\", \"AdvertisementReach\", \"finalCustomerFeedback\"],\n",
        "                        outputCol=\"all_features\")"
      ],
      "metadata": {
        "id": "590ZeDsW0Za_"
      },
      "execution_count": 14,
      "outputs": []
    },
    {
      "cell_type": "markdown",
      "source": [
        "### Model Training"
      ],
      "metadata": {
        "id": "hgyPI-a-icRg"
      }
    },
    {
      "cell_type": "code",
      "source": [
        "#Creating a logistic regression model\n",
        "from pyspark.ml.classification import LogisticRegression\n",
        "lr = LogisticRegression(featuresCol='all_features', labelCol=\"newChurnRisk\")\n",
        "\n",
        "#Creating a pipeline\n",
        "from pyspark.ml import Pipeline\n",
        "lr_pipeline=Pipeline(stages=[str_obj, onehot_obj, vec_obj, lr])"
      ],
      "metadata": {
        "id": "W5QL11Px1-bs"
      },
      "execution_count": 15,
      "outputs": []
    },
    {
      "cell_type": "code",
      "source": [
        "#Splitting the dataset into train and test\n",
        "train, test=telecom_customer.randomSplit([0.8, 0.2], seed=123)\n",
        "\n",
        "#Training the model\n",
        "lr_model=lr_pipeline.fit(train)\n",
        "\n",
        "#Predicting the results on test dataset\n",
        "lr_results=lr_model.transform(test)\n",
        "\n",
        "#Displaying the results\n",
        "lr_results.show(2, truncate=False)"
      ],
      "metadata": {
        "colab": {
          "base_uri": "https://localhost:8080/"
        },
        "id": "tXw0xtN22Zcd",
        "outputId": "404902e4-fa3c-4e57-b8eb-6c2a5fb8f14b"
      },
      "execution_count": 16,
      "outputs": [
        {
          "output_type": "stream",
          "name": "stdout",
          "text": [
            "+----------+----------+------------+-------------+---------------+-----------+------------+--------------+------------------+--------------+--------------+----------------+---------+-------------+--------------+---------------+-----------------+-------------------+------------+---------------+-------------------+---------------------+--------------------------------------------------------------------------+------------------------------------------+----------------------------------------+----------+\n",
            "|CustomerID|ProviderID|DataPerMonth|PricePerMonth|NetworkUsage_GB|WifiCalling|ShareHotspot|ServiceQuality|AdvertisementReach|EngagementRate|ConversionRate|CustomerFeedback|ChurnRisk|newProviderID|newWifiCalling|newShareHotspot|newServiceQuality|newCustomerFeedback|newChurnRisk|finalProviderID|finalServiceQuality|finalCustomerFeedback|all_features                                                              |rawPrediction                             |probability                             |prediction|\n",
            "+----------+----------+------------+-------------+---------------+-----------+------------+--------------+------------------+--------------+--------------+----------------+---------+-------------+--------------+---------------+-----------------+-------------------+------------+---------------+-------------------+---------------------+--------------------------------------------------------------------------+------------------------------------------+----------------------------------------+----------+\n",
            "|Cust_10   |Prov_3    |30          |48.35        |18.40981207    |YES        |YES         |Good          |944               |0.04517847    |0.033941798   |Neutral         |No       |2.0          |1.0           |1.0            |2.0              |1.0                |0.0         |(4,[2],[1.0])  |(3,[2],[1.0])      |(2,[1],[1.0])        |[0.0,0.0,1.0,0.0,30.0,48.35,18.40981207,1.0,1.0,0.0,0.0,1.0,944.0,0.0,1.0]|[2.0438060297794287,-2.0438060297794287]  |[0.8853202547571669,0.11467974524283309]|0.0       |\n",
            "|Cust_103  |Prov_2    |20          |46.46        |3.893533193    |YES        |YES         |Excellent     |877               |0.050094787   |0.006755841   |Positive        |No       |1.0          |1.0           |1.0            |0.0              |2.0                |0.0         |(4,[1],[1.0])  |(3,[0],[1.0])      |(2,[],[])            |(15,[1,4,5,6,7,8,9,12],[1.0,20.0,46.46,3.893533193,1.0,1.0,1.0,877.0])    |[0.21221517687377567,-0.21221517687377567]|[0.552855579125653,0.447144420874347]   |0.0       |\n",
            "+----------+----------+------------+-------------+---------------+-----------+------------+--------------+------------------+--------------+--------------+----------------+---------+-------------+--------------+---------------+-----------------+-------------------+------------+---------------+-------------------+---------------------+--------------------------------------------------------------------------+------------------------------------------+----------------------------------------+----------+\n",
            "only showing top 2 rows\n",
            "\n"
          ]
        }
      ]
    },
    {
      "cell_type": "markdown",
      "source": [
        "### Model Evaluation"
      ],
      "metadata": {
        "id": "jS8fkxiBiieV"
      }
    },
    {
      "cell_type": "code",
      "source": [
        "#Evaluating the result\n",
        "from pyspark.ml.evaluation import BinaryClassificationEvaluator\n",
        "\n",
        "#Calculate the accuracy\n",
        "lr_results=lr_results.withColumn(\"compare\", lr_results['newChurnRisk']-lr_results['prediction'])\n",
        "correct=lr_results.filter(lr_results['compare']==0).count()\n",
        "incorrect=lr_results.filter(lr_results['compare']!=0).count()\n",
        "print(correct/(correct+incorrect))"
      ],
      "metadata": {
        "id": "_TQQFVjb23pp",
        "colab": {
          "base_uri": "https://localhost:8080/"
        },
        "outputId": "f7a099c9-420f-480f-e485-f36b25f34964"
      },
      "execution_count": 17,
      "outputs": [
        {
          "output_type": "stream",
          "name": "stdout",
          "text": [
            "0.7073170731707317\n"
          ]
        }
      ]
    },
    {
      "cell_type": "code",
      "source": [
        "#Calculate the Logistic Regression AUC\n",
        "evaluator = BinaryClassificationEvaluator(labelCol=\"newChurnRisk\", rawPredictionCol=\"probability\", metricName=\"areaUnderROC\")\n",
        "auc = evaluator.evaluate(lr_results)\n",
        "print(f\"Test AUC: {auc}\")"
      ],
      "metadata": {
        "colab": {
          "base_uri": "https://localhost:8080/"
        },
        "id": "ht3YUrrrHCqU",
        "outputId": "a406fd1a-5d74-4ecb-fe4e-b64e7ee558a5"
      },
      "execution_count": 18,
      "outputs": [
        {
          "output_type": "stream",
          "name": "stdout",
          "text": [
            "Test AUC: 0.7356321839080456\n"
          ]
        }
      ]
    },
    {
      "cell_type": "markdown",
      "source": [
        "Although our model currently has an accuracy of 70%, we want to explore ways to improve it. One approach is through **feature engineering**.\n",
        "\n",
        "For instance, we are considering the **creation of new columns**, such as the remaining data at the end of the month. This is based on the rationale that customers who consistently purchase more data than they need might consider switching to another service provider. Additionally, we plan to **rescale our advertisement reach metrics**, as their wide range compared to other features could potentially skew the model's bias.\n",
        "\n",
        "Furthermore, we intend to move beyond traditional logistic regression. We plan to employ the **bagging technique with a random forest model** to decrease our model's variance without increasing bias (which is known as **ensemble methods**). This method should help enhance the model's overall performance.\n"
      ],
      "metadata": {
        "id": "SkFG5Lrxyyna"
      }
    },
    {
      "cell_type": "markdown",
      "source": [
        "## Feature Engineering and Ensemble Methods"
      ],
      "metadata": {
        "id": "4nnzFkOVAuM9"
      }
    },
    {
      "cell_type": "markdown",
      "source": [
        "### Add DataRemian Column"
      ],
      "metadata": {
        "id": "NkVtVVfo8c4V"
      }
    },
    {
      "cell_type": "code",
      "source": [
        "#Create new columns\n",
        "telecom_customer = telecom_customer.withColumn('DataRemain', telecom_customer['DataPerMonth'] - telecom_customer['NetworkUsage_GB'])"
      ],
      "metadata": {
        "id": "X5xKJiKK17nX"
      },
      "execution_count": 19,
      "outputs": []
    },
    {
      "cell_type": "code",
      "source": [
        "telecom_customer.show()"
      ],
      "metadata": {
        "colab": {
          "base_uri": "https://localhost:8080/"
        },
        "id": "y8XRKJo5a4Kd",
        "outputId": "1b206266-6f0e-4180-8c24-e39b02c9598c"
      },
      "execution_count": 20,
      "outputs": [
        {
          "output_type": "stream",
          "name": "stdout",
          "text": [
            "+----------+----------+------------+-------------+---------------+-----------+------------+--------------+------------------+--------------+--------------+----------------+---------+------------------+\n",
            "|CustomerID|ProviderID|DataPerMonth|PricePerMonth|NetworkUsage_GB|WifiCalling|ShareHotspot|ServiceQuality|AdvertisementReach|EngagementRate|ConversionRate|CustomerFeedback|ChurnRisk|        DataRemain|\n",
            "+----------+----------+------------+-------------+---------------+-----------+------------+--------------+------------------+--------------+--------------+----------------+---------+------------------+\n",
            "|   Cust_69|    Prov_1|           5|        56.85|            5.0|         NO|         YES|          Fair|               839|   0.177260796|   0.031627842|         Neutral|       No|               0.0|\n",
            "|  Cust_160|    Prov_1|          20|        50.66|    18.69521621|        YES|         YES|          Fair|               768|   0.143224913|   0.033397969|         Neutral|       No|1.3047837899999983|\n",
            "|  Cust_156|    Prov_3|          15|        32.68|           15.0|        YES|         YES|     Excellent|               981|   0.062491029|   0.046749754|         Neutral|       No|               0.0|\n",
            "|   Cust_42|    Prov_2|          20|        53.84|    1.277950123|         NO|         YES|          Good|               880|   0.011928712|   0.021831809|         Neutral|      Yes|      18.722049877|\n",
            "|   Cust_61|    Prov_2|          15|        64.81|    7.477280029|         NO|         YES|          Fair|               904|    0.19013189|   0.027683557|        Positive|       No|       7.522719971|\n",
            "|   Cust_61|    Prov_2|          20|        58.93|    13.80030042|         NO|         YES|          Good|               862|   0.026266463|   0.032734101|         Neutral|       No| 6.199699580000001|\n",
            "|  Cust_111|    Prov_1|          20|        51.23|    13.50520151|         NO|         YES|          Good|               848|   0.146814186|   0.045512161|        Negative|       No| 6.494798490000001|\n",
            "|  Cust_147|    Prov_5|          15|        39.69|    7.396733375|        YES|          NO|          Good|               828|   0.102829791|   0.041504927|         Neutral|       No|       7.603266625|\n",
            "|   Cust_22|    Prov_1|          30|        68.06|    11.41772862|         NO|          NO|     Excellent|               711|   0.154051284|   0.004499082|        Negative|      Yes|       18.58227138|\n",
            "|  Cust_125|    Prov_5|          20|        48.61|    17.55689811|        YES|          NO|     Excellent|               916|   0.141215774|   0.009130217|        Negative|      Yes| 2.443101890000001|\n",
            "|   Cust_16|    Prov_4|          15|        68.37|           15.0|        YES|          NO|          Good|               867|   0.132721551|   0.016072979|        Negative|      Yes|               0.0|\n",
            "|   Cust_23|    Prov_1|           5|        60.08|            5.0|         NO|          NO|          Poor|               819|   0.103256054|   0.037698928|         Neutral|      Yes|               0.0|\n",
            "|  Cust_154|    Prov_1|          20|        68.73|    18.55239454|        YES|         YES|     Excellent|               853|   0.160657245|   0.028891145|        Positive|       No|1.4476054599999983|\n",
            "|  Cust_120|    Prov_1|           5|        73.75|            5.0|        YES|          NO|          Poor|               764|   0.027680137|   0.015141919|         Neutral|       No|               0.0|\n",
            "|   Cust_74|    Prov_2|           5|        65.48|    3.668784458|         NO|         YES|          Poor|               907|   0.052103316|   0.007093329|        Negative|       No|1.3312155419999998|\n",
            "|   Cust_32|    Prov_2|          15|        56.17|           15.0|        YES|         YES|          Good|               990|    0.14143956|   0.034745222|         Neutral|       No|               0.0|\n",
            "|  Cust_112|    Prov_5|          20|         66.3|    3.952521221|        YES|          NO|          Poor|               748|   0.068179146|   0.035286951|         Neutral|      Yes|      16.047478779|\n",
            "|  Cust_132|    Prov_5|          15|        74.46|    8.539741002|         NO|         YES|          Poor|               906|   0.120495561|   0.047191136|         Neutral|       No|6.4602589980000005|\n",
            "|   Cust_70|    Prov_1|           5|        54.05|    3.997532937|         NO|         YES|          Poor|               931|   0.099919493|   0.025523137|        Negative|       No|       1.002467063|\n",
            "|   Cust_92|    Prov_5|          30|        37.22|    18.52750226|         NO|          NO|          Good|               873|   0.110875167|   0.025195966|        Negative|      Yes|11.472497740000001|\n",
            "+----------+----------+------------+-------------+---------------+-----------+------------+--------------+------------------+--------------+--------------+----------------+---------+------------------+\n",
            "only showing top 20 rows\n",
            "\n"
          ]
        }
      ]
    },
    {
      "cell_type": "code",
      "source": [
        "#Update our VectorAssemble\n",
        "from pyspark.ml.feature import VectorAssembler\n",
        "vec_obj2=VectorAssembler(inputCols=[\"finalProviderID\", \"DataPerMonth\", \"PricePerMonth\", \"NetworkUsage_GB\", \"DataRemain\", \"newWifiCalling\", \"newShareHotspot\", \"finalServiceQuality\", \"AdvertisementReach\", \"finalCustomerFeedback\"],\n",
        "                        outputCol=\"all_features\")"
      ],
      "metadata": {
        "id": "8PxojLoi4uQv"
      },
      "execution_count": 21,
      "outputs": []
    },
    {
      "cell_type": "markdown",
      "source": [
        "### Min Max Scaling"
      ],
      "metadata": {
        "id": "QT7M7WBs8Wju"
      }
    },
    {
      "cell_type": "code",
      "source": [
        "#Min Max Scaling\n",
        "from pyspark.ml.feature import MinMaxScaler\n",
        "\n",
        "#A min max scalar is always applied only on a vector\n",
        "mm = MinMaxScaler(inputCol=\"all_features\", outputCol=\"all_features_scaled\")"
      ],
      "metadata": {
        "id": "QHkz8QRN2dIl"
      },
      "execution_count": 22,
      "outputs": []
    },
    {
      "cell_type": "markdown",
      "source": [
        "### Bagging with Random Forest"
      ],
      "metadata": {
        "id": "pgFlIImx8RxC"
      }
    },
    {
      "cell_type": "code",
      "source": [
        "#Create the model based on Random Forest algorithm\n",
        "from pyspark.ml.classification import RandomForestClassifier\n",
        "\n",
        "#Use bagging for our feature selection, \"all\" means using all the features at every split\n",
        "rf = RandomForestClassifier(featuresCol=\"all_features_scaled\", labelCol=\"newChurnRisk\",\n",
        "                            numTrees=20, featureSubsetStrategy=\"all\", seed=123)"
      ],
      "metadata": {
        "id": "O7p3rLVo5lzQ"
      },
      "execution_count": 23,
      "outputs": []
    },
    {
      "cell_type": "code",
      "source": [
        "#Assemble the pipeline\n",
        "rf_pipeline = Pipeline(stages=[str_obj, onehot_obj, vec_obj2, mm, rf])"
      ],
      "metadata": {
        "id": "8WfgGPDP8NfJ"
      },
      "execution_count": 24,
      "outputs": []
    },
    {
      "cell_type": "code",
      "source": [
        "# #Splitting the dataset into train and test\n",
        "train, test=telecom_customer.randomSplit([0.8, 0.2], seed=123)\n",
        "\n",
        "#Training the model\n",
        "rf_model=rf_pipeline.fit(train)\n",
        "\n",
        "#Predicting the results on test dataset\n",
        "rf_results=rf_model.transform(test)\n",
        "\n",
        "#Displaying the results\n",
        "rf_results.show(2, truncate=False)"
      ],
      "metadata": {
        "colab": {
          "base_uri": "https://localhost:8080/"
        },
        "id": "KCSGpENl8xtH",
        "outputId": "89f2744c-eccd-49ab-d460-7884af504021"
      },
      "execution_count": 25,
      "outputs": [
        {
          "output_type": "stream",
          "name": "stdout",
          "text": [
            "+----------+----------+------------+-------------+---------------+-----------+------------+--------------+------------------+--------------+--------------+----------------+---------+------------------+-------------+--------------+---------------+-----------------+-------------------+------------+---------------+-------------------+---------------------+---------------------------------------------------------------------------------------------+----------------------------------------------------------------------------------------------------------------------------+---------------------------------------+----------------------------------------+----------+\n",
            "|CustomerID|ProviderID|DataPerMonth|PricePerMonth|NetworkUsage_GB|WifiCalling|ShareHotspot|ServiceQuality|AdvertisementReach|EngagementRate|ConversionRate|CustomerFeedback|ChurnRisk|DataRemain        |newProviderID|newWifiCalling|newShareHotspot|newServiceQuality|newCustomerFeedback|newChurnRisk|finalProviderID|finalServiceQuality|finalCustomerFeedback|all_features                                                                                 |all_features_scaled                                                                                                         |rawPrediction                          |probability                             |prediction|\n",
            "+----------+----------+------------+-------------+---------------+-----------+------------+--------------+------------------+--------------+--------------+----------------+---------+------------------+-------------+--------------+---------------+-----------------+-------------------+------------+---------------+-------------------+---------------------+---------------------------------------------------------------------------------------------+----------------------------------------------------------------------------------------------------------------------------+---------------------------------------+----------------------------------------+----------+\n",
            "|Cust_10   |Prov_3    |30          |48.35        |18.40981207    |YES        |YES         |Good          |944               |0.04517847    |0.033941798   |Neutral         |No       |11.590187929999999|2.0          |1.0           |1.0            |2.0              |1.0                |0.0         |(4,[2],[1.0])  |(3,[2],[1.0])      |(2,[1],[1.0])        |[0.0,0.0,1.0,0.0,30.0,48.35,18.40981207,11.590187929999999,1.0,1.0,0.0,0.0,1.0,944.0,0.0,1.0]|[0.0,0.0,1.0,0.0,1.0,0.4628582963262011,0.9312340374274798,0.4030811058109762,1.0,1.0,0.0,0.0,1.0,0.917557251908397,0.0,1.0]|[15.043381180223284,4.956618819776714] |[0.7521690590111643,0.24783094098883574]|0.0       |\n",
            "|Cust_103  |Prov_2    |20          |46.46        |3.893533193    |YES        |YES         |Excellent     |877               |0.050094787   |0.006755841   |Positive        |No       |16.106466807      |1.0          |1.0           |1.0            |0.0              |2.0                |0.0         |(4,[1],[1.0])  |(3,[0],[1.0])      |(2,[],[])            |(16,[1,4,5,6,7,8,9,10,13],[1.0,20.0,46.46,3.893533193,16.106466807,1.0,1.0,1.0,877.0])       |(16,[1,4,5,6,7,8,9,10,13],[1.0,0.6,0.4247073072264837,0.1530643976277727,0.5601472979112724,1.0,1.0,1.0,0.815267175572519]) |[13.382153593702926,6.6178464062970725]|[0.6691076796851463,0.3308923203148536] |0.0       |\n",
            "+----------+----------+------------+-------------+---------------+-----------+------------+--------------+------------------+--------------+--------------+----------------+---------+------------------+-------------+--------------+---------------+-----------------+-------------------+------------+---------------+-------------------+---------------------+---------------------------------------------------------------------------------------------+----------------------------------------------------------------------------------------------------------------------------+---------------------------------------+----------------------------------------+----------+\n",
            "only showing top 2 rows\n",
            "\n"
          ]
        }
      ]
    },
    {
      "cell_type": "code",
      "source": [
        "#Evaluating the result\n",
        "from pyspark.ml.evaluation import BinaryClassificationEvaluator\n",
        "\n",
        "#Verifying the Results\n",
        "rf_results=rf_results.withColumn(\"compare\", rf_results['newChurnRisk']-rf_results['prediction'])\n",
        "correct2=rf_results.filter(rf_results['compare']==0).count()\n",
        "incorrect2=rf_results.filter(rf_results['compare']!=0).count()\n",
        "print(correct2/(correct2+incorrect2))"
      ],
      "metadata": {
        "colab": {
          "base_uri": "https://localhost:8080/"
        },
        "id": "ZHgXs1Ak9K9X",
        "outputId": "9670b513-02ab-468e-9e73-13cfba1ca66f"
      },
      "execution_count": 26,
      "outputs": [
        {
          "output_type": "stream",
          "name": "stdout",
          "text": [
            "0.8048780487804879\n"
          ]
        }
      ]
    },
    {
      "cell_type": "markdown",
      "source": [
        "Yes, it did improve! As we create more useful feature engineering columns or experiment with different sets of parameters (like the depth of trees/number of features selected at every split), our model's predictions will become more accurate."
      ],
      "metadata": {
        "id": "Bt1bmjPF906L"
      }
    },
    {
      "cell_type": "markdown",
      "source": [
        "## Reevaluation"
      ],
      "metadata": {
        "id": "-Dpwi9gdBZM0"
      }
    },
    {
      "cell_type": "markdown",
      "source": [
        "### Using ROC for Model Comparison"
      ],
      "metadata": {
        "id": "Rw0FKkpk_WIy"
      }
    },
    {
      "cell_type": "code",
      "source": [
        "#Calculate the Random Forest AUC\n",
        "evaluator2 = BinaryClassificationEvaluator(labelCol=\"newChurnRisk\", rawPredictionCol=\"probability\", metricName=\"areaUnderROC\")\n",
        "auc2 = evaluator2.evaluate(rf_results)\n",
        "print(f\"Test AUC: {auc2}\")"
      ],
      "metadata": {
        "colab": {
          "base_uri": "https://localhost:8080/"
        },
        "id": "p5jsQw2v-aDh",
        "outputId": "e7fd5006-157c-4d49-eb5f-714d88dd1ad7"
      },
      "execution_count": 27,
      "outputs": [
        {
          "output_type": "stream",
          "name": "stdout",
          "text": [
            "Test AUC: 0.7586206896551724\n"
          ]
        }
      ]
    },
    {
      "cell_type": "code",
      "source": [
        "from sklearn.metrics import roc_curve, auc\n",
        "\n",
        "#Extract probabilities for the positive class (index 1 of the probability vector)\n",
        "rf_probabilities = rf_results.select(\"probability\").rdd.map(lambda row: row[0][1]).collect()\n",
        "lr_probabilities = lr_results.select(\"probability\").rdd.map(lambda row: row[0][1]).collect()\n",
        "\n",
        "#Extract the true labels\n",
        "rf_labels = rf_results.select(\"newChurnRisk\").rdd.map(lambda row: row[0]).collect()\n",
        "lr_labels = lr_results.select(\"newChurnRisk\").rdd.map(lambda row: row[0]).collect()\n",
        "\n",
        "#Calculate the ROC curve data points\n",
        "fpr_rf, tpr_rf, _ = roc_curve(rf_labels, rf_probabilities)\n",
        "fpr_lr, tpr_lr, _ = roc_curve(lr_labels, lr_probabilities)\n",
        "\n",
        "#Calculate the AUC for each model\n",
        "auc_rf = auc(fpr_rf, tpr_rf)\n",
        "auc_lr = auc(fpr_lr, tpr_lr)"
      ],
      "metadata": {
        "id": "-n8VaYS7RBxH"
      },
      "execution_count": 28,
      "outputs": []
    },
    {
      "cell_type": "code",
      "source": [
        "#Plot the ROC curve\n",
        "import matplotlib.pyplot as plt\n",
        "\n",
        "# Plotting\n",
        "plt.figure(figsize=(8, 6))\n",
        "plt.plot(fpr_rf, tpr_rf, label=f'Random Forest ROC curve (area = {auc_rf:.2f})', color='orange', lw=2)\n",
        "plt.plot(fpr_lr, tpr_lr, label=f'Logistic Regression ROC curve (area = {auc_lr:.2f})', color='blue', lw=2)\n",
        "\n",
        "# Highlight the area before 0.2 false positive rate\n",
        "plt.fill_betweenx([0, 1], 0, 0.2, color='orange', alpha=0.2, label='Comparison area')\n",
        "\n",
        "plt.plot([0, 1], [0, 1], color='navy', lw=2, linestyle='--')\n",
        "plt.xlim([0.0, 1.0])\n",
        "plt.ylim([0.0, 1.05])\n",
        "plt.xlabel('False Positive Rate')\n",
        "plt.ylabel('True Positive Rate')\n",
        "plt.title('Receiver Operating Characteristic Comparison')\n",
        "plt.legend(loc=\"lower right\")\n",
        "plt.show()"
      ],
      "metadata": {
        "colab": {
          "base_uri": "https://localhost:8080/",
          "height": 564
        },
        "id": "_u7SxPmEOV_n",
        "outputId": "7331e1ae-1ec2-4f35-bb3a-a3d540da044c"
      },
      "execution_count": 29,
      "outputs": [
        {
          "output_type": "display_data",
          "data": {
            "text/plain": [
              "<Figure size 800x600 with 1 Axes>"
            ],
            "image/png": "[encoded data removed]"
          },
          "metadata": {}
        }
      ]
    },
    {
      "cell_type": "markdown",
      "source": [
        "Considering the telecom market, as service providers, **we care more about false negatives since they are \"expensive\"—meaning that we would rather identify all the customers who will churn (at the cost of mistakenly classifying some customers who will stay anyway)**. In this case, our logistic regression model might have strictly better performance."
      ],
      "metadata": {
        "id": "nC-SOV2ZCWjP"
      }
    },
    {
      "cell_type": "markdown",
      "source": [
        "With similar AUCs for both models, although the random forest model correctly predicts more outcomes, **the logistic regression model might be better at distinguishing between the positive and negative classes when we consider a false positive rate acceptance threshold under 0.2.**"
      ],
      "metadata": {
        "id": "VyH1EFprNJSU"
      }
    },
    {
      "cell_type": "markdown",
      "source": [
        "In summary, the choice of model depend on the specific business context and cost-benefit analysis of different types of errors. In our cases, if we want to maintain a low false positive rate (high true negative), then the logistic regression might be preferred despite its slightly lower overall accuracy."
      ],
      "metadata": {
        "id": "91DITlSzNZcH"
      }
    }
  ]
}