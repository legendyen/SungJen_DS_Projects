{
 "cells": [
  {
   "cell_type": "markdown",
   "id": "770129ac",
   "metadata": {},
   "source": [
    "## Part 1: Quick View on Kickstarter's Data"
   ]
  },
  {
   "cell_type": "code",
   "execution_count": 1,
   "id": "abf6b117-154e-494d-91f0-40fc20468356",
   "metadata": {
    "tags": []
   },
   "outputs": [],
   "source": [
    "# import data set and libraires for data processing \n",
    "import numpy as np \n",
    "import pandas as pd\n",
    "\n",
    "df = pd.read_csv('HW3_kickstarter.csv')"
   ]
  },
  {
   "cell_type": "code",
   "execution_count": 2,
   "id": "fc94cad6-fbe6-4be5-9b05-be91b568dd80",
   "metadata": {
    "tags": []
   },
   "outputs": [
    {
     "data": {
      "text/html": [
       "<div>\n",
       "<style scoped>\n",
       "    .dataframe tbody tr th:only-of-type {\n",
       "        vertical-align: middle;\n",
       "    }\n",
       "\n",
       "    .dataframe tbody tr th {\n",
       "        vertical-align: top;\n",
       "    }\n",
       "\n",
       "    .dataframe thead th {\n",
       "        text-align: right;\n",
       "    }\n",
       "</style>\n",
       "<table border=\"1\" class=\"dataframe\">\n",
       "  <thead>\n",
       "    <tr style=\"text-align: right;\">\n",
       "      <th></th>\n",
       "      <th>id</th>\n",
       "      <th>name</th>\n",
       "      <th>goal</th>\n",
       "      <th>pledged</th>\n",
       "      <th>state</th>\n",
       "      <th>country</th>\n",
       "      <th>currency</th>\n",
       "      <th>currency_trailing_code</th>\n",
       "      <th>staff_pick</th>\n",
       "      <th>backers_count</th>\n",
       "      <th>static_usd_rate</th>\n",
       "      <th>usd_pledged</th>\n",
       "      <th>category</th>\n",
       "      <th>spotlight</th>\n",
       "    </tr>\n",
       "  </thead>\n",
       "  <tbody>\n",
       "    <tr>\n",
       "      <th>0</th>\n",
       "      <td>1526127826</td>\n",
       "      <td>conceptual-waist-aprons</td>\n",
       "      <td>300.0</td>\n",
       "      <td>321.00</td>\n",
       "      <td>successful</td>\n",
       "      <td>US</td>\n",
       "      <td>USD</td>\n",
       "      <td>True</td>\n",
       "      <td>False</td>\n",
       "      <td>18</td>\n",
       "      <td>1.000000</td>\n",
       "      <td>321.000000</td>\n",
       "      <td>Conceptual Art</td>\n",
       "      <td>True</td>\n",
       "    </tr>\n",
       "    <tr>\n",
       "      <th>1</th>\n",
       "      <td>2007987502</td>\n",
       "      <td>mjolby-porslinsravsmuseum-pin</td>\n",
       "      <td>3000.0</td>\n",
       "      <td>7070.00</td>\n",
       "      <td>successful</td>\n",
       "      <td>SE</td>\n",
       "      <td>SEK</td>\n",
       "      <td>True</td>\n",
       "      <td>False</td>\n",
       "      <td>79</td>\n",
       "      <td>0.121226</td>\n",
       "      <td>857.068103</td>\n",
       "      <td>Conceptual Art</td>\n",
       "      <td>True</td>\n",
       "    </tr>\n",
       "    <tr>\n",
       "      <th>2</th>\n",
       "      <td>1075407414</td>\n",
       "      <td>cool-dog-annual-sticker-fund-2016</td>\n",
       "      <td>3200.0</td>\n",
       "      <td>4431.12</td>\n",
       "      <td>successful</td>\n",
       "      <td>US</td>\n",
       "      <td>USD</td>\n",
       "      <td>True</td>\n",
       "      <td>False</td>\n",
       "      <td>148</td>\n",
       "      <td>1.000000</td>\n",
       "      <td>4431.120000</td>\n",
       "      <td>Conceptual Art</td>\n",
       "      <td>True</td>\n",
       "    </tr>\n",
       "    <tr>\n",
       "      <th>3</th>\n",
       "      <td>1038608633</td>\n",
       "      <td>uss-coral-sea-cvb-cva-cv-43-commemorative-chal...</td>\n",
       "      <td>2100.0</td>\n",
       "      <td>2500.00</td>\n",
       "      <td>successful</td>\n",
       "      <td>US</td>\n",
       "      <td>USD</td>\n",
       "      <td>True</td>\n",
       "      <td>False</td>\n",
       "      <td>56</td>\n",
       "      <td>1.000000</td>\n",
       "      <td>2500.000000</td>\n",
       "      <td>Conceptual Art</td>\n",
       "      <td>True</td>\n",
       "    </tr>\n",
       "    <tr>\n",
       "      <th>4</th>\n",
       "      <td>451699826</td>\n",
       "      <td>amrita-bottles-inc</td>\n",
       "      <td>1950.0</td>\n",
       "      <td>2240.00</td>\n",
       "      <td>successful</td>\n",
       "      <td>US</td>\n",
       "      <td>USD</td>\n",
       "      <td>True</td>\n",
       "      <td>False</td>\n",
       "      <td>31</td>\n",
       "      <td>1.000000</td>\n",
       "      <td>2240.000000</td>\n",
       "      <td>Conceptual Art</td>\n",
       "      <td>True</td>\n",
       "    </tr>\n",
       "  </tbody>\n",
       "</table>\n",
       "</div>"
      ],
      "text/plain": [
       "           id                                               name    goal  \\\n",
       "0  1526127826                            conceptual-waist-aprons   300.0   \n",
       "1  2007987502                      mjolby-porslinsravsmuseum-pin  3000.0   \n",
       "2  1075407414                  cool-dog-annual-sticker-fund-2016  3200.0   \n",
       "3  1038608633  uss-coral-sea-cvb-cva-cv-43-commemorative-chal...  2100.0   \n",
       "4   451699826                                 amrita-bottles-inc  1950.0   \n",
       "\n",
       "   pledged       state country currency  currency_trailing_code  staff_pick  \\\n",
       "0   321.00  successful      US      USD                    True       False   \n",
       "1  7070.00  successful      SE      SEK                    True       False   \n",
       "2  4431.12  successful      US      USD                    True       False   \n",
       "3  2500.00  successful      US      USD                    True       False   \n",
       "4  2240.00  successful      US      USD                    True       False   \n",
       "\n",
       "   backers_count  static_usd_rate  usd_pledged        category  spotlight  \n",
       "0             18         1.000000   321.000000  Conceptual Art       True  \n",
       "1             79         0.121226   857.068103  Conceptual Art       True  \n",
       "2            148         1.000000  4431.120000  Conceptual Art       True  \n",
       "3             56         1.000000  2500.000000  Conceptual Art       True  \n",
       "4             31         1.000000  2240.000000  Conceptual Art       True  "
      ]
     },
     "execution_count": 2,
     "metadata": {},
     "output_type": "execute_result"
    }
   ],
   "source": [
    "# Take a look on the first few rows of the data set\n",
    "df.head()"
   ]
  },
  {
   "cell_type": "markdown",
   "id": "ade77e1e",
   "metadata": {},
   "source": [
    "## Part 2: Exploratory Analysis"
   ]
  },
  {
   "cell_type": "markdown",
   "id": "4724cc39",
   "metadata": {},
   "source": [
    "******First, we want to know the average pledged amount across all projects and the percentage of projects receiving more than $2,500 in funding.******"
   ]
  },
  {
   "cell_type": "code",
   "execution_count": 3,
   "id": "eea251a6-ec78-4830-8126-a195abf7144e",
   "metadata": {
    "tags": []
   },
   "outputs": [],
   "source": [
    "# Load the pledge amount (in US dollar) data across all projects\n",
    "amount_pledged = df['usd_pledged']"
   ]
  },
  {
   "cell_type": "code",
   "execution_count": 4,
   "id": "970dd4cf-3954-46f5-b1f7-dfa977f8c2da",
   "metadata": {
    "tags": []
   },
   "outputs": [
    {
     "data": {
      "text/plain": [
       "count      4184.000000\n",
       "mean       1242.124269\n",
       "std        5178.546874\n",
       "min           0.000000\n",
       "25%           1.000000\n",
       "50%          90.000000\n",
       "75%         605.250000\n",
       "max      111111.770000\n",
       "Name: usd_pledged, dtype: float64"
      ]
     },
     "execution_count": 4,
     "metadata": {},
     "output_type": "execute_result"
    }
   ],
   "source": [
    "# Display decriptive statisitcs of amount pledged acorss all projects\n",
    "amount_pledged.describe()"
   ]
  },
  {
   "cell_type": "code",
   "execution_count": 5,
   "id": "db1059d7-a682-40e7-a716-6be507848d89",
   "metadata": {
    "tags": []
   },
   "outputs": [
    {
     "name": "stdout",
     "output_type": "stream",
     "text": [
      "False    3741\n",
      "True      443\n",
      "Name: usd_pledged, dtype: int64\n",
      "\n",
      "0.10587954110898662\n"
     ]
    }
   ],
   "source": [
    "# Calculate the percentage of projects that earned total pledges of at least $2,500\n",
    "mask1 = amount_pledged >= 2500\n",
    "print(mask1.value_counts())\n",
    "\n",
    "at_least_2500 = mask1.value_counts()[1] / mask1.value_counts().sum()\n",
    "print()\n",
    "print(at_least_2500)"
   ]
  },
  {
   "cell_type": "markdown",
   "id": "98df190a-ef91-4246-8ba9-fc5979675a40",
   "metadata": {
    "tags": []
   },
   "source": [
    "From the calculation, it looks like only about 11% of the projects earned more than $2,500 pledge amount."
   ]
  },
  {
   "cell_type": "markdown",
   "id": "e7a5b04f",
   "metadata": {},
   "source": [
    "******Next, we want to know which category holds most projects in Kickstarter.******"
   ]
  },
  {
   "cell_type": "code",
   "execution_count": 6,
   "id": "7c492304-ed40-4c8a-9008-5713efa894b2",
   "metadata": {
    "tags": []
   },
   "outputs": [],
   "source": [
    "# Load the project categories data \n",
    "categories = df['category']"
   ]
  },
  {
   "cell_type": "code",
   "execution_count": 7,
   "id": "055f0622-a38a-46f8-a32f-781755771f7e",
   "metadata": {
    "tags": []
   },
   "outputs": [
    {
     "name": "stdout",
     "output_type": "stream",
     "text": [
      "Painting          1586\n",
      "Digital Art       1054\n",
      "Conceptual Art     879\n",
      "Illustration       461\n",
      "Ceramics           204\n",
      "Name: category, dtype: int64\n",
      "\n",
      "Painting          0.379063\n",
      "Digital Art       0.251912\n",
      "Conceptual Art    0.210086\n",
      "Illustration      0.110182\n",
      "Ceramics          0.048757\n",
      "Name: category, dtype: float64\n"
     ]
    }
   ],
   "source": [
    "# Display the frequency of each category and the percentage of each category observations\n",
    "frequency = categories.value_counts()\n",
    "print(frequency)\n",
    "print()\n",
    "\n",
    "percentage = frequency / frequency.sum()\n",
    "print(percentage)"
   ]
  },
  {
   "cell_type": "code",
   "execution_count": 8,
   "id": "d1dc1380-1374-476b-b5df-288675828dc9",
   "metadata": {
    "tags": []
   },
   "outputs": [
    {
     "data": {
      "image/png": "[encoded data removed]",
      "text/plain": [
       "<Figure size 640x480 with 1 Axes>"
      ]
     },
     "metadata": {},
     "output_type": "display_data"
    }
   ],
   "source": [
    "# Use bar charts to show each category frequency\n",
    "import matplotlib.pyplot as plt\n",
    "import seaborn as sns\n",
    "\n",
    "values, frequencies = np.unique(categories, return_counts=True)\n",
    "title = \"Proportion of Projects in Each Category\"\n",
    "\n",
    "sns.set_style(\"whitegrid\") \n",
    "axes = sns.barplot(x=values, y=frequencies , palette='bright') \n",
    "axes.set_title(title)\n",
    "axes.set(xlabel='Category', ylabel='Percentage')\n",
    "\n",
    "for bar, frequency in zip(axes.patches, frequencies):\n",
    "    text_x = bar.get_x() + bar.get_width() / 2.0 \n",
    "    text_y = bar.get_height() \n",
    "    text = f'{frequency}\\n{frequency / sum(frequencies):.2%}'\n",
    "    axes.text(text_x, text_y, text, fontsize=11, ha='center', va='bottom')"
   ]
  },
  {
   "cell_type": "markdown",
   "id": "630f0f35-2d06-421e-a32d-a803cd176eb6",
   "metadata": {},
   "source": [
    "From the bar chart, we can see that:\n",
    "\n",
    "1. Ceramics and Illustration have least projects in Kickstarter.\n",
    "2. Painting almost holds 40% of the projects in Kickstarter."
   ]
  },
  {
   "cell_type": "markdown",
   "id": "8b9ad40b",
   "metadata": {},
   "source": [
    "******Next, we want to know the percentage of success rate for each category.******"
   ]
  },
  {
   "cell_type": "code",
   "execution_count": 9,
   "id": "372b3497-7f37-4696-a732-6ccd35e5afff",
   "metadata": {
    "tags": []
   },
   "outputs": [],
   "source": [
    "# Load the project states data \n",
    "category_state = df[['category','state']].copy()"
   ]
  },
  {
   "cell_type": "code",
   "execution_count": 10,
   "id": "cabec03d-339a-4517-b2eb-c2fd550c380e",
   "metadata": {
    "tags": []
   },
   "outputs": [
    {
     "data": {
      "text/html": [
       "<div>\n",
       "<style scoped>\n",
       "    .dataframe tbody tr th:only-of-type {\n",
       "        vertical-align: middle;\n",
       "    }\n",
       "\n",
       "    .dataframe tbody tr th {\n",
       "        vertical-align: top;\n",
       "    }\n",
       "\n",
       "    .dataframe thead th {\n",
       "        text-align: right;\n",
       "    }\n",
       "</style>\n",
       "<table border=\"1\" class=\"dataframe\">\n",
       "  <thead>\n",
       "    <tr style=\"text-align: right;\">\n",
       "      <th></th>\n",
       "      <th>category</th>\n",
       "      <th>state</th>\n",
       "    </tr>\n",
       "  </thead>\n",
       "  <tbody>\n",
       "    <tr>\n",
       "      <th>0</th>\n",
       "      <td>Conceptual Art</td>\n",
       "      <td>1</td>\n",
       "    </tr>\n",
       "    <tr>\n",
       "      <th>1</th>\n",
       "      <td>Conceptual Art</td>\n",
       "      <td>1</td>\n",
       "    </tr>\n",
       "    <tr>\n",
       "      <th>2</th>\n",
       "      <td>Conceptual Art</td>\n",
       "      <td>1</td>\n",
       "    </tr>\n",
       "    <tr>\n",
       "      <th>3</th>\n",
       "      <td>Conceptual Art</td>\n",
       "      <td>1</td>\n",
       "    </tr>\n",
       "    <tr>\n",
       "      <th>4</th>\n",
       "      <td>Conceptual Art</td>\n",
       "      <td>1</td>\n",
       "    </tr>\n",
       "    <tr>\n",
       "      <th>...</th>\n",
       "      <td>...</td>\n",
       "      <td>...</td>\n",
       "    </tr>\n",
       "    <tr>\n",
       "      <th>4179</th>\n",
       "      <td>Painting</td>\n",
       "      <td>0</td>\n",
       "    </tr>\n",
       "    <tr>\n",
       "      <th>4180</th>\n",
       "      <td>Painting</td>\n",
       "      <td>0</td>\n",
       "    </tr>\n",
       "    <tr>\n",
       "      <th>4181</th>\n",
       "      <td>Painting</td>\n",
       "      <td>0</td>\n",
       "    </tr>\n",
       "    <tr>\n",
       "      <th>4182</th>\n",
       "      <td>Painting</td>\n",
       "      <td>0</td>\n",
       "    </tr>\n",
       "    <tr>\n",
       "      <th>4183</th>\n",
       "      <td>Painting</td>\n",
       "      <td>0</td>\n",
       "    </tr>\n",
       "  </tbody>\n",
       "</table>\n",
       "<p>4184 rows × 2 columns</p>\n",
       "</div>"
      ],
      "text/plain": [
       "            category state\n",
       "0     Conceptual Art     1\n",
       "1     Conceptual Art     1\n",
       "2     Conceptual Art     1\n",
       "3     Conceptual Art     1\n",
       "4     Conceptual Art     1\n",
       "...              ...   ...\n",
       "4179        Painting     0\n",
       "4180        Painting     0\n",
       "4181        Painting     0\n",
       "4182        Painting     0\n",
       "4183        Painting     0\n",
       "\n",
       "[4184 rows x 2 columns]"
      ]
     },
     "execution_count": 10,
     "metadata": {},
     "output_type": "execute_result"
    }
   ],
   "source": [
    "# Transform the project's state to 0 and 1, where 1 means success and 0 means unsuccess.\n",
    "# This stage of process is to create dummy variable for further data processing.\n",
    "mask2 = category_state['state'] == 'successful'\n",
    "category_state.loc[mask2, 'state'] = 1\n",
    "\n",
    "mask3 = ~mask2\n",
    "category_state.loc[mask3, 'state'] = 0\n",
    "category_state"
   ]
  },
  {
   "cell_type": "code",
   "execution_count": 11,
   "id": "827fcd91",
   "metadata": {},
   "outputs": [
    {
     "name": "stdout",
     "output_type": "stream",
     "text": [
      "category\n",
      "Ceramics           84\n",
      "Conceptual Art    322\n",
      "Digital Art       286\n",
      "Illustration        0\n",
      "Painting            0\n",
      "Name: state, dtype: object\n"
     ]
    }
   ],
   "source": [
    "# Calculate the number of success projects for each category\n",
    "success = category_state.groupby('category')['state'].sum()\n",
    "print(success)"
   ]
  },
  {
   "cell_type": "code",
   "execution_count": 12,
   "id": "ed24ded3",
   "metadata": {},
   "outputs": [
    {
     "name": "stdout",
     "output_type": "stream",
     "text": [
      "category\n",
      "Ceramics           204\n",
      "Conceptual Art     879\n",
      "Digital Art       1054\n",
      "Illustration       461\n",
      "Painting          1586\n",
      "Name: state, dtype: int64\n"
     ]
    }
   ],
   "source": [
    "# Calculate the total number of projects for each category\n",
    "all_projects =df[['category','state']].groupby('category')['state'].count()\n",
    "print(all_projects)"
   ]
  },
  {
   "cell_type": "code",
   "execution_count": 13,
   "id": "83c3bfc8",
   "metadata": {},
   "outputs": [
    {
     "name": "stdout",
     "output_type": "stream",
     "text": [
      "category\n",
      "Ceramics          0.411765\n",
      "Conceptual Art    0.366325\n",
      "Digital Art       0.271347\n",
      "Illustration           0.0\n",
      "Painting               0.0\n",
      "Name: state, dtype: object\n"
     ]
    }
   ],
   "source": [
    "# Calculate the percentage of projects that were successful for each category\n",
    "succes_rate = success / all_projects\n",
    "print(succes_rate)"
   ]
  },
  {
   "cell_type": "code",
   "execution_count": 14,
   "id": "835002bc-9e8c-4282-aa3b-e4b9790c4dfe",
   "metadata": {
    "tags": []
   },
   "outputs": [
    {
     "data": {
      "image/png": "[encoded data removed]",
      "text/plain": [
       "<Figure size 640x480 with 1 Axes>"
      ]
     },
     "metadata": {},
     "output_type": "display_data"
    }
   ],
   "source": [
    "# Use bar charts to show each category's projects successfull rate\n",
    "import matplotlib.pyplot as plt\n",
    "import seaborn as sns\n",
    "\n",
    "title = 'Percentage of Project Success Rate for Each Category'\n",
    "\n",
    "sns.set_style(\"whitegrid\") \n",
    "axes = sns.barplot(x=succes_rate.index, y=succes_rate, palette=\"Set2\") \n",
    "axes.set_title(title)\n",
    "axes.set(xlabel='Category', ylabel='Percentage')\n",
    "\n",
    "for bar, rate in zip(axes.patches, succes_rate):\n",
    "    text_x = bar.get_x() + bar.get_width() / 2.0 \n",
    "    text_y = bar.get_height() \n",
    "    text = f'{rate:.2%}'\n",
    "    axes.text(text_x, text_y, text, fontsize=11, ha='center', va='bottom')"
   ]
  },
  {
   "cell_type": "markdown",
   "id": "2654ae66-6628-48d6-a920-3e778220bfb3",
   "metadata": {},
   "source": [
    "From the bar chart, we can see that:\n",
    "\n",
    "1. Ceramics has the highest success rate of all categories.\n",
    "2. No Illustration and Painting projects mange to the stage of success."
   ]
  },
  {
   "cell_type": "markdown",
   "id": "b4675bea",
   "metadata": {},
   "source": [
    "******Now we want to know which factor affects more on project success rate. Staff picks or spotlight?******"
   ]
  },
  {
   "cell_type": "code",
   "execution_count": 15,
   "id": "8976cb00-4a31-4e16-a570-e6ca5587fe72",
   "metadata": {
    "tags": []
   },
   "outputs": [],
   "source": [
    "# Load the staff pick and spotlight data\n",
    "staffpick_spotlight = df[['state', 'staff_pick', 'spotlight']].copy()"
   ]
  },
  {
   "cell_type": "code",
   "execution_count": 16,
   "id": "3b1bcc52-109b-4612-94fc-b421e895cda0",
   "metadata": {
    "tags": []
   },
   "outputs": [
    {
     "name": "stdout",
     "output_type": "stream",
     "text": [
      "           state  staff_pick  spotlight\n",
      "20    successful        True       True\n",
      "21    successful        True       True\n",
      "22    successful        True       True\n",
      "23    successful        True       True\n",
      "24    successful        True       True\n",
      "...          ...         ...        ...\n",
      "3033      failed        True      False\n",
      "3034      failed        True      False\n",
      "3035      failed        True      False\n",
      "3036      failed        True      False\n",
      "3037      failed        True      False\n",
      "\n",
      "[224 rows x 3 columns]\n",
      "           state  staff_pick  spotlight\n",
      "0     successful       False       True\n",
      "1     successful       False       True\n",
      "2     successful       False       True\n",
      "3     successful       False       True\n",
      "4     successful       False       True\n",
      "...          ...         ...        ...\n",
      "3253  successful       False       True\n",
      "3254  successful       False       True\n",
      "3255  successful       False       True\n",
      "3256  successful       False       True\n",
      "3257  successful       False       True\n",
      "\n",
      "[692 rows x 3 columns]\n"
     ]
    }
   ],
   "source": [
    "# Determine the total number of projects identified as staff picks and the total number of projects identified as spotlight.\n",
    "mask4 = staffpick_spotlight['staff_pick'] == 1\n",
    "staffpick = staffpick_spotlight[mask4]\n",
    "print(staffpick)\n",
    "\n",
    "mask5 = staffpick_spotlight['spotlight'] == 1\n",
    "spotlight = staffpick_spotlight[mask5]\n",
    "print(spotlight)"
   ]
  },
  {
   "cell_type": "markdown",
   "id": "98c32cfd-7845-4ced-aad3-ebc9dd0c9ef4",
   "metadata": {},
   "source": [
    "There are 224 staff pick projects and 692 spotlight projects."
   ]
  },
  {
   "cell_type": "code",
   "execution_count": 17,
   "id": "6db8170d-3617-4b37-99a8-58dea4844691",
   "metadata": {
    "tags": []
   },
   "outputs": [
    {
     "name": "stdout",
     "output_type": "stream",
     "text": [
      "72.77%\n",
      "100.00%\n"
     ]
    }
   ],
   "source": [
    "# Calcualte the successful rate individually for staff picks and spotlight projects\n",
    "mask6 = (staffpick_spotlight['staff_pick'] == 1) & (staffpick_spotlight['state'] == 'successful')\n",
    "print(f'{(len(staffpick_spotlight[mask6]) / len(staffpick)):.2%}')\n",
    "\n",
    "mask7 = (staffpick_spotlight['spotlight'] == 1) & (staffpick_spotlight['state'] == 'successful')\n",
    "print(f'{(len(staffpick_spotlight[mask7]) / len(spotlight)):.2%}')"
   ]
  },
  {
   "cell_type": "markdown",
   "id": "88d6cb89-88a2-4dd5-9ace-5adac593ec29",
   "metadata": {},
   "source": [
    "From the calculation, we can conclude that:\n",
    "1. Staff pick projects have a chance of almost 73% to be successful.\n",
    "2. But if a project is classified as spotlight, it is 100% guaranteed to be successful."
   ]
  },
  {
   "cell_type": "code",
   "execution_count": 18,
   "id": "96ca8c7b-6dde-421e-95f9-7e6b307ade6d",
   "metadata": {
    "tags": []
   },
   "outputs": [
    {
     "name": "stdout",
     "output_type": "stream",
     "text": [
      "87.36%\n"
     ]
    }
   ],
   "source": [
    "# Calcualte the percentage of success when a project is both staff pick and spotlight\n",
    "mask8 = (staffpick_spotlight['staff_pick'] == 1) & staffpick_spotlight['spotlight'] == 1  & (staffpick_spotlight['state'] == 'successful')\n",
    "print(f'{(len(staffpick_spotlight[mask8]) / len(staffpick_spotlight)):.2%}')"
   ]
  },
  {
   "cell_type": "markdown",
   "id": "f687d87d-c4ce-4b69-8d87-ca4905c3f586",
   "metadata": {},
   "source": [
    "From the calculation, now we can even further certain that:\n",
    "\n",
    "1. If a project is awarded as both staff pick and spotlight, it will have a better chance of success than only awarded as staff picks.\n",
    "2. It is reasonable to say that spotlight has higher influence on whether a pproject will success or not. (87.36% for both vs. 72.77% alone)"
   ]
  },
  {
   "cell_type": "markdown",
   "id": "78aaab12",
   "metadata": {
    "tags": []
   },
   "source": [
    "******Lastly, we investigate a liitle bit deeper to see whether there are other factors affecting people pledging projects on Kickstarter.******"
   ]
  },
  {
   "cell_type": "code",
   "execution_count": 19,
   "id": "343262ba",
   "metadata": {},
   "outputs": [
    {
     "data": {
      "text/html": [
       "<div>\n",
       "<style scoped>\n",
       "    .dataframe tbody tr th:only-of-type {\n",
       "        vertical-align: middle;\n",
       "    }\n",
       "\n",
       "    .dataframe tbody tr th {\n",
       "        vertical-align: top;\n",
       "    }\n",
       "\n",
       "    .dataframe thead th {\n",
       "        text-align: right;\n",
       "    }\n",
       "</style>\n",
       "<table border=\"1\" class=\"dataframe\">\n",
       "  <thead>\n",
       "    <tr style=\"text-align: right;\">\n",
       "      <th></th>\n",
       "      <th>id</th>\n",
       "      <th>name</th>\n",
       "      <th>goal</th>\n",
       "      <th>pledged</th>\n",
       "      <th>state</th>\n",
       "      <th>country</th>\n",
       "      <th>currency</th>\n",
       "      <th>currency_trailing_code</th>\n",
       "      <th>staff_pick</th>\n",
       "      <th>backers_count</th>\n",
       "      <th>static_usd_rate</th>\n",
       "      <th>usd_pledged</th>\n",
       "      <th>category</th>\n",
       "      <th>spotlight</th>\n",
       "    </tr>\n",
       "  </thead>\n",
       "  <tbody>\n",
       "    <tr>\n",
       "      <th>0</th>\n",
       "      <td>1526127826</td>\n",
       "      <td>conceptual-waist-aprons</td>\n",
       "      <td>300.0</td>\n",
       "      <td>321.00</td>\n",
       "      <td>successful</td>\n",
       "      <td>US</td>\n",
       "      <td>USD</td>\n",
       "      <td>True</td>\n",
       "      <td>False</td>\n",
       "      <td>18</td>\n",
       "      <td>1.000000</td>\n",
       "      <td>321.000000</td>\n",
       "      <td>Conceptual Art</td>\n",
       "      <td>True</td>\n",
       "    </tr>\n",
       "    <tr>\n",
       "      <th>1</th>\n",
       "      <td>2007987502</td>\n",
       "      <td>mjolby-porslinsravsmuseum-pin</td>\n",
       "      <td>3000.0</td>\n",
       "      <td>7070.00</td>\n",
       "      <td>successful</td>\n",
       "      <td>SE</td>\n",
       "      <td>SEK</td>\n",
       "      <td>True</td>\n",
       "      <td>False</td>\n",
       "      <td>79</td>\n",
       "      <td>0.121226</td>\n",
       "      <td>857.068103</td>\n",
       "      <td>Conceptual Art</td>\n",
       "      <td>True</td>\n",
       "    </tr>\n",
       "    <tr>\n",
       "      <th>2</th>\n",
       "      <td>1075407414</td>\n",
       "      <td>cool-dog-annual-sticker-fund-2016</td>\n",
       "      <td>3200.0</td>\n",
       "      <td>4431.12</td>\n",
       "      <td>successful</td>\n",
       "      <td>US</td>\n",
       "      <td>USD</td>\n",
       "      <td>True</td>\n",
       "      <td>False</td>\n",
       "      <td>148</td>\n",
       "      <td>1.000000</td>\n",
       "      <td>4431.120000</td>\n",
       "      <td>Conceptual Art</td>\n",
       "      <td>True</td>\n",
       "    </tr>\n",
       "    <tr>\n",
       "      <th>3</th>\n",
       "      <td>1038608633</td>\n",
       "      <td>uss-coral-sea-cvb-cva-cv-43-commemorative-chal...</td>\n",
       "      <td>2100.0</td>\n",
       "      <td>2500.00</td>\n",
       "      <td>successful</td>\n",
       "      <td>US</td>\n",
       "      <td>USD</td>\n",
       "      <td>True</td>\n",
       "      <td>False</td>\n",
       "      <td>56</td>\n",
       "      <td>1.000000</td>\n",
       "      <td>2500.000000</td>\n",
       "      <td>Conceptual Art</td>\n",
       "      <td>True</td>\n",
       "    </tr>\n",
       "    <tr>\n",
       "      <th>4</th>\n",
       "      <td>451699826</td>\n",
       "      <td>amrita-bottles-inc</td>\n",
       "      <td>1950.0</td>\n",
       "      <td>2240.00</td>\n",
       "      <td>successful</td>\n",
       "      <td>US</td>\n",
       "      <td>USD</td>\n",
       "      <td>True</td>\n",
       "      <td>False</td>\n",
       "      <td>31</td>\n",
       "      <td>1.000000</td>\n",
       "      <td>2240.000000</td>\n",
       "      <td>Conceptual Art</td>\n",
       "      <td>True</td>\n",
       "    </tr>\n",
       "  </tbody>\n",
       "</table>\n",
       "</div>"
      ],
      "text/plain": [
       "           id                                               name    goal  \\\n",
       "0  1526127826                            conceptual-waist-aprons   300.0   \n",
       "1  2007987502                      mjolby-porslinsravsmuseum-pin  3000.0   \n",
       "2  1075407414                  cool-dog-annual-sticker-fund-2016  3200.0   \n",
       "3  1038608633  uss-coral-sea-cvb-cva-cv-43-commemorative-chal...  2100.0   \n",
       "4   451699826                                 amrita-bottles-inc  1950.0   \n",
       "\n",
       "   pledged       state country currency  currency_trailing_code  staff_pick  \\\n",
       "0   321.00  successful      US      USD                    True       False   \n",
       "1  7070.00  successful      SE      SEK                    True       False   \n",
       "2  4431.12  successful      US      USD                    True       False   \n",
       "3  2500.00  successful      US      USD                    True       False   \n",
       "4  2240.00  successful      US      USD                    True       False   \n",
       "\n",
       "   backers_count  static_usd_rate  usd_pledged        category  spotlight  \n",
       "0             18         1.000000   321.000000  Conceptual Art       True  \n",
       "1             79         0.121226   857.068103  Conceptual Art       True  \n",
       "2            148         1.000000  4431.120000  Conceptual Art       True  \n",
       "3             56         1.000000  2500.000000  Conceptual Art       True  \n",
       "4             31         1.000000  2240.000000  Conceptual Art       True  "
      ]
     },
     "execution_count": 19,
     "metadata": {},
     "output_type": "execute_result"
    }
   ],
   "source": [
    "df.head()"
   ]
  },
  {
   "cell_type": "code",
   "execution_count": 20,
   "id": "66b5b36b",
   "metadata": {},
   "outputs": [
    {
     "data": {
      "text/plain": [
       "Index(['id', 'name', 'goal', 'pledged', 'state', 'country', 'currency',\n",
       "       'currency_trailing_code', 'staff_pick', 'backers_count',\n",
       "       'static_usd_rate', 'usd_pledged', 'category', 'spotlight'],\n",
       "      dtype='object')"
      ]
     },
     "execution_count": 20,
     "metadata": {},
     "output_type": "execute_result"
    }
   ],
   "source": [
    "df.columns"
   ]
  },
  {
   "cell_type": "code",
   "execution_count": 21,
   "id": "9d1cf3b9",
   "metadata": {},
   "outputs": [
    {
     "data": {
      "text/html": [
       "<div>\n",
       "<style scoped>\n",
       "    .dataframe tbody tr th:only-of-type {\n",
       "        vertical-align: middle;\n",
       "    }\n",
       "\n",
       "    .dataframe tbody tr th {\n",
       "        vertical-align: top;\n",
       "    }\n",
       "\n",
       "    .dataframe thead th {\n",
       "        text-align: right;\n",
       "    }\n",
       "</style>\n",
       "<table border=\"1\" class=\"dataframe\">\n",
       "  <thead>\n",
       "    <tr style=\"text-align: right;\">\n",
       "      <th></th>\n",
       "      <th>goal</th>\n",
       "      <th>staff_pick</th>\n",
       "      <th>backers_count</th>\n",
       "      <th>usd_pledged</th>\n",
       "      <th>spotlight</th>\n",
       "    </tr>\n",
       "  </thead>\n",
       "  <tbody>\n",
       "    <tr>\n",
       "      <th>0</th>\n",
       "      <td>300.0</td>\n",
       "      <td>False</td>\n",
       "      <td>18</td>\n",
       "      <td>321.000000</td>\n",
       "      <td>True</td>\n",
       "    </tr>\n",
       "    <tr>\n",
       "      <th>1</th>\n",
       "      <td>3000.0</td>\n",
       "      <td>False</td>\n",
       "      <td>79</td>\n",
       "      <td>857.068103</td>\n",
       "      <td>True</td>\n",
       "    </tr>\n",
       "    <tr>\n",
       "      <th>2</th>\n",
       "      <td>3200.0</td>\n",
       "      <td>False</td>\n",
       "      <td>148</td>\n",
       "      <td>4431.120000</td>\n",
       "      <td>True</td>\n",
       "    </tr>\n",
       "    <tr>\n",
       "      <th>3</th>\n",
       "      <td>2100.0</td>\n",
       "      <td>False</td>\n",
       "      <td>56</td>\n",
       "      <td>2500.000000</td>\n",
       "      <td>True</td>\n",
       "    </tr>\n",
       "    <tr>\n",
       "      <th>4</th>\n",
       "      <td>1950.0</td>\n",
       "      <td>False</td>\n",
       "      <td>31</td>\n",
       "      <td>2240.000000</td>\n",
       "      <td>True</td>\n",
       "    </tr>\n",
       "    <tr>\n",
       "      <th>...</th>\n",
       "      <td>...</td>\n",
       "      <td>...</td>\n",
       "      <td>...</td>\n",
       "      <td>...</td>\n",
       "      <td>...</td>\n",
       "    </tr>\n",
       "    <tr>\n",
       "      <th>4179</th>\n",
       "      <td>665.0</td>\n",
       "      <td>False</td>\n",
       "      <td>0</td>\n",
       "      <td>0.000000</td>\n",
       "      <td>False</td>\n",
       "    </tr>\n",
       "    <tr>\n",
       "      <th>4180</th>\n",
       "      <td>80000.0</td>\n",
       "      <td>False</td>\n",
       "      <td>0</td>\n",
       "      <td>0.000000</td>\n",
       "      <td>False</td>\n",
       "    </tr>\n",
       "    <tr>\n",
       "      <th>4181</th>\n",
       "      <td>132300.0</td>\n",
       "      <td>False</td>\n",
       "      <td>2</td>\n",
       "      <td>50.000000</td>\n",
       "      <td>False</td>\n",
       "    </tr>\n",
       "    <tr>\n",
       "      <th>4182</th>\n",
       "      <td>7500.0</td>\n",
       "      <td>False</td>\n",
       "      <td>2</td>\n",
       "      <td>220.237088</td>\n",
       "      <td>False</td>\n",
       "    </tr>\n",
       "    <tr>\n",
       "      <th>4183</th>\n",
       "      <td>2000.0</td>\n",
       "      <td>False</td>\n",
       "      <td>6</td>\n",
       "      <td>155.000000</td>\n",
       "      <td>False</td>\n",
       "    </tr>\n",
       "  </tbody>\n",
       "</table>\n",
       "<p>4184 rows × 5 columns</p>\n",
       "</div>"
      ],
      "text/plain": [
       "          goal  staff_pick  backers_count  usd_pledged  spotlight\n",
       "0        300.0       False             18   321.000000       True\n",
       "1       3000.0       False             79   857.068103       True\n",
       "2       3200.0       False            148  4431.120000       True\n",
       "3       2100.0       False             56  2500.000000       True\n",
       "4       1950.0       False             31  2240.000000       True\n",
       "...        ...         ...            ...          ...        ...\n",
       "4179     665.0       False              0     0.000000      False\n",
       "4180   80000.0       False              0     0.000000      False\n",
       "4181  132300.0       False              2    50.000000      False\n",
       "4182    7500.0       False              2   220.237088      False\n",
       "4183    2000.0       False              6   155.000000      False\n",
       "\n",
       "[4184 rows x 5 columns]"
      ]
     },
     "execution_count": 21,
     "metadata": {},
     "output_type": "execute_result"
    }
   ],
   "source": [
    "# Before we look at correlation, let's drop some of the nominal varaibles\n",
    "df2 = df.copy()\n",
    "df2.drop(['id', 'name', 'pledged', 'state', 'country', 'currency', 'currency_trailing_code', 'static_usd_rate', 'category'], axis=1, inplace=True)\n",
    "df2"
   ]
  },
  {
   "cell_type": "code",
   "execution_count": 22,
   "id": "84573ee4",
   "metadata": {},
   "outputs": [
    {
     "data": {
      "text/plain": [
       "Text(0.5, 1.0, 'Correlation Heatmap')"
      ]
     },
     "execution_count": 22,
     "metadata": {},
     "output_type": "execute_result"
    },
    {
     "data": {
      "image/png": "[encoded data removed]",
      "text/plain": [
       "<Figure size 1200x600 with 2 Axes>"
      ]
     },
     "metadata": {},
     "output_type": "display_data"
    }
   ],
   "source": [
    "# Find the correlation among factors that might have effect on a project's pledge amount.\n",
    "plt.figure(figsize=(12, 6))\n",
    "heatmap = sns.heatmap(df2.corr(), vmin=-1, vmax=1, annot=True)\n",
    "heatmap.set_title('Correlation Heatmap', fontdict={'fontsize':12}, pad=12)"
   ]
  },
  {
   "cell_type": "markdown",
   "id": "697171bf",
   "metadata": {},
   "source": [
    "From the correlation heatmap, we can see that:\n",
    "\n",
    "1. If a project has more backers, the projects tends to larger amount pledged, which seems reasonable.\n",
    "2. However, the staff_picks' and spotlight's correlation to pledged amount do not seem quite right. We previosly just calculated the possiblilty of having both awards would generate a 87.36% of success."
   ]
  },
  {
   "cell_type": "markdown",
   "id": "cf0e2ebb",
   "metadata": {},
   "source": [
    "## Self-reflection: For categorical variable correlation, what are the technique we can use?"
   ]
  }
 ],
 "metadata": {
  "kernelspec": {
   "display_name": "Python 3 (ipykernel)",
   "language": "python",
   "name": "python3"
  },
  "language_info": {
   "codemirror_mode": {
    "name": "ipython",
    "version": 3
   },
   "file_extension": ".py",
   "mimetype": "text/x-python",
   "name": "python",
   "nbconvert_exporter": "python",
   "pygments_lexer": "ipython3",
   "version": "3.11.3"
  }
 },
 "nbformat": 4,
 "nbformat_minor": 5
}
